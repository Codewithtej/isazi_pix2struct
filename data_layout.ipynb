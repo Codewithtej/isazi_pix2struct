{
 "cells": [
  {
   "cell_type": "code",
   "execution_count": null,
   "metadata": {},
   "outputs": [],
   "source": [
    "def read_csv_from_drive(url: str) -> pd.DataFrame:\n",
    "  url = 'https://drive.google.com/uc?id=' + url.split('/')[-2]\n",
    "  return pd.read_csv(url)\n",
    "\n",
    "# Read data from csv file and drop the 'id' column as it won't be needed.\n",
    "data = read_csv_from_drive(\n",
    "  'https://drive.google.com/file/d/1Q8Q62LS3XY3yjJOIWTM-cAN-9FlOHMOU/view?usp=drive_link'\n",
    ").drop(columns = ['id'])"
   ]
  },
  {
   "cell_type": "code",
   "execution_count": 3,
   "metadata": {},
   "outputs": [
    {
     "ename": "KeyboardInterrupt",
     "evalue": "",
     "output_type": "error",
     "traceback": [
      "\u001b[0;31m---------------------------------------------------------------------------\u001b[0m",
      "\u001b[0;31mKeyboardInterrupt\u001b[0m                         Traceback (most recent call last)",
      "Cell \u001b[0;32mIn[3], line 65\u001b[0m\n\u001b[1;32m     62\u001b[0m output_path \u001b[38;5;241m=\u001b[39m \u001b[38;5;124mf\u001b[39m\u001b[38;5;124m'\u001b[39m\u001b[38;5;124m/Users/tejdavuluri/MSDS/isazi/baby_nutrition_updated_dataset/layouts_2/\u001b[39m\u001b[38;5;132;01m{\u001b[39;00mgroup_name\u001b[38;5;132;01m}\u001b[39;00m\u001b[38;5;124m_layout.png\u001b[39m\u001b[38;5;124m'\u001b[39m\n\u001b[1;32m     64\u001b[0m \u001b[38;5;66;03m# Generate and save the layout image\u001b[39;00m\n\u001b[0;32m---> 65\u001b[0m create_image_layout(image_paths, output_path)\n",
      "Cell \u001b[0;32mIn[3], line 20\u001b[0m, in \u001b[0;36mcreate_image_layout\u001b[0;34m(image_paths, output_path)\u001b[0m\n\u001b[1;32m     17\u001b[0m \u001b[38;5;28;01mfor\u001b[39;00m i, image_path \u001b[38;5;129;01min\u001b[39;00m \u001b[38;5;28menumerate\u001b[39m(image_paths):\n\u001b[1;32m     18\u001b[0m     \u001b[38;5;66;03m# Open the image using Pillow\u001b[39;00m\n\u001b[1;32m     19\u001b[0m     img \u001b[38;5;241m=\u001b[39m Image\u001b[38;5;241m.\u001b[39mopen(image_path)\n\u001b[0;32m---> 20\u001b[0m     img \u001b[38;5;241m=\u001b[39m img\u001b[38;5;241m.\u001b[39mresize((image_size, image_size), Image\u001b[38;5;241m.\u001b[39mLANCZOS)  \u001b[38;5;66;03m# Resize image if needed\u001b[39;00m\n\u001b[1;32m     22\u001b[0m     \u001b[38;5;66;03m# Calculate the position to paste the image\u001b[39;00m\n\u001b[1;32m     23\u001b[0m     row \u001b[38;5;241m=\u001b[39m i \u001b[38;5;241m/\u001b[39m\u001b[38;5;241m/\u001b[39m (layout_width \u001b[38;5;241m/\u001b[39m\u001b[38;5;241m/\u001b[39m image_size)\n",
      "File \u001b[0;32m/opt/homebrew/anaconda3/lib/python3.11/site-packages/PIL/Image.py:2174\u001b[0m, in \u001b[0;36mImage.resize\u001b[0;34m(self, size, resample, box, reducing_gap)\u001b[0m\n\u001b[1;32m   2166\u001b[0m             \u001b[38;5;28mself\u001b[39m \u001b[38;5;241m=\u001b[39m Image\u001b[38;5;241m.\u001b[39mreduce(\u001b[38;5;28mself\u001b[39m, factor, box\u001b[38;5;241m=\u001b[39mreduce_box)\n\u001b[1;32m   2167\u001b[0m         box \u001b[38;5;241m=\u001b[39m (\n\u001b[1;32m   2168\u001b[0m             (box[\u001b[38;5;241m0\u001b[39m] \u001b[38;5;241m-\u001b[39m reduce_box[\u001b[38;5;241m0\u001b[39m]) \u001b[38;5;241m/\u001b[39m factor_x,\n\u001b[1;32m   2169\u001b[0m             (box[\u001b[38;5;241m1\u001b[39m] \u001b[38;5;241m-\u001b[39m reduce_box[\u001b[38;5;241m1\u001b[39m]) \u001b[38;5;241m/\u001b[39m factor_y,\n\u001b[1;32m   2170\u001b[0m             (box[\u001b[38;5;241m2\u001b[39m] \u001b[38;5;241m-\u001b[39m reduce_box[\u001b[38;5;241m0\u001b[39m]) \u001b[38;5;241m/\u001b[39m factor_x,\n\u001b[1;32m   2171\u001b[0m             (box[\u001b[38;5;241m3\u001b[39m] \u001b[38;5;241m-\u001b[39m reduce_box[\u001b[38;5;241m1\u001b[39m]) \u001b[38;5;241m/\u001b[39m factor_y,\n\u001b[1;32m   2172\u001b[0m         )\n\u001b[0;32m-> 2174\u001b[0m \u001b[38;5;28;01mreturn\u001b[39;00m \u001b[38;5;28mself\u001b[39m\u001b[38;5;241m.\u001b[39m_new(\u001b[38;5;28mself\u001b[39m\u001b[38;5;241m.\u001b[39mim\u001b[38;5;241m.\u001b[39mresize(size, resample, box))\n",
      "\u001b[0;31mKeyboardInterrupt\u001b[0m: "
     ]
    }
   ],
   "source": [
    "from PIL import Image, ImageDraw\n",
    "import json\n",
    "import os\n",
    "\n",
    "def create_image_layout(image_paths, output_path):\n",
    "    # Calculate the layout dimensions based on the number of images\n",
    "    num_images = len(image_paths)\n",
    "    layout_width = 500  # You can adjust these dimensions based on your needs\n",
    "    layout_height = 500\n",
    "    image_size = 100     # Size of each image in the layout\n",
    "\n",
    "    # Create a new blank image\n",
    "    layout_image = Image.new('RGB', (layout_width, layout_height), 'white')\n",
    "    draw = ImageDraw.Draw(layout_image)\n",
    "\n",
    "    # Paste each image onto the layout\n",
    "    for i, image_path in enumerate(image_paths):\n",
    "        # Open the image using Pillow\n",
    "        img = Image.open(image_path)\n",
    "        img = img.resize((image_size, image_size), Image.LANCZOS)  # Resize image if needed\n",
    "\n",
    "        # Calculate the position to paste the image\n",
    "        row = i // (layout_width // image_size)\n",
    "        col = i % (layout_width // image_size)\n",
    "        x = col * image_size\n",
    "        y = row * image_size\n",
    "\n",
    "        # Paste the image onto the layout\n",
    "        layout_image.paste(img, (x, y))\n",
    "\n",
    "        # Draw a border around the image\n",
    "        draw.rectangle([x, y, x + image_size, y + image_size], outline='black')\n",
    "\n",
    "    # Save the layout image\n",
    "    layout_image.save(output_path)\n",
    "\n",
    "# Load the JSON file with image filenames and their groups of labels\n",
    "with open('/Users/tejdavuluri/MSDS/isazi/baby_nutrition_updated_dataset/brandi_app_product_crops_candidates.json', 'r') as f:\n",
    "    image_grouping_labels = json.load(f)\n",
    "\n",
    "# Load the JSON file with image filenames and labels\n",
    "with open('/Users/tejdavuluri/MSDS/isazi/baby_nutrition_updated_dataset/brandi_app_product_crops_lbls.json', 'r') as f:\n",
    "    image_labels = json.load(f)\n",
    "\n",
    "# Specify the directory where your images are stored\n",
    "image_directory = '/Users/tejdavuluri/MSDS/isazi/baby_nutrition_updated_dataset/images'\n",
    "\n",
    "fact_directory = '/Users/tejdavuluri/MSDS/isazi/baby_nutrition_updated_dataset/baby_fact'\n",
    "\n",
    "\n",
    "# Create layouts for each group of images\n",
    "for group_name, sub_image_labels in image_grouping_labels.items():\n",
    "    layout_group_images=[]\n",
    "    for key,val in image_labels.items():\n",
    "        if val in sub_image_labels:\n",
    "            layout_group_images.append(key)\n",
    "\n",
    "    # Construct the full paths to the images\n",
    "    image_paths = [os.path.join(image_directory, filename) for filename in layout_group_images]\n",
    "\n",
    "    # Create an output path for the layout image\n",
    "    output_path = f'/Users/tejdavuluri/MSDS/isazi/baby_nutrition_updated_dataset/layout_v3/{group_name}_layout.png'\n",
    "\n",
    "    # Generate and save the layout image\n",
    "    create_image_layout(image_paths, output_path)\n"
   ]
  },
  {
   "cell_type": "code",
   "execution_count": null,
   "metadata": {},
   "outputs": [],
   "source": []
  }
 ],
 "metadata": {
  "kernelspec": {
   "display_name": "base",
   "language": "python",
   "name": "python3"
  },
  "language_info": {
   "codemirror_mode": {
    "name": "ipython",
    "version": 3
   },
   "file_extension": ".py",
   "mimetype": "text/x-python",
   "name": "python",
   "nbconvert_exporter": "python",
   "pygments_lexer": "ipython3",
   "version": "3.11.4"
  }
 },
 "nbformat": 4,
 "nbformat_minor": 2
}

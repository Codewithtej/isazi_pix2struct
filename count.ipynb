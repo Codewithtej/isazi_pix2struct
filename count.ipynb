{
 "cells": [
  {
   "cell_type": "code",
   "execution_count": 1,
   "metadata": {},
   "outputs": [
    {
     "name": "stdout",
     "output_type": "stream",
     "text": [
      "Value 0: 13576 occurrences\n",
      "Value 2: 3929 occurrences\n",
      "Value -1: 9056 occurrences\n",
      "Value 1: 1301 occurrences\n",
      "Value 6: 928 occurrences\n",
      "Value 7: 684 occurrences\n",
      "Value 5: 810 occurrences\n",
      "Value 11: 406 occurrences\n",
      "Value 3: 1101 occurrences\n",
      "Value 10: 466 occurrences\n",
      "Value 8: 578 occurrences\n",
      "Value 9: 521 occurrences\n",
      "Value 4: 1603 occurrences\n",
      "Value 12: 364 occurrences\n"
     ]
    }
   ],
   "source": [
    "import json\n",
    "\n",
    "# Specify the path to your JSON file\n",
    "json_file_path = '/Users/tejdavuluri/MSDS/isazi/code/train_lables.json'\n",
    "\n",
    "# Load JSON data from file\n",
    "with open(json_file_path, 'r') as file:\n",
    "    data = json.load(file)\n",
    "\n",
    "# Count occurrences of each value\n",
    "value_counts = {}\n",
    "for value in data.values():\n",
    "    value_counts[value] = value_counts.get(value, 0) + 1\n",
    "\n",
    "# Print the count of each value\n",
    "for value, count in value_counts.items():\n",
    "    print(f\"Value {value}: {count} occurrences\")\n"
   ]
  },
  {
   "cell_type": "code",
   "execution_count": null,
   "metadata": {},
   "outputs": [],
   "source": []
  }
 ],
 "metadata": {
  "kernelspec": {
   "display_name": "base",
   "language": "python",
   "name": "python3"
  },
  "language_info": {
   "codemirror_mode": {
    "name": "ipython",
    "version": 3
   },
   "file_extension": ".py",
   "mimetype": "text/x-python",
   "name": "python",
   "nbconvert_exporter": "python",
   "pygments_lexer": "ipython3",
   "version": "3.11.4"
  }
 },
 "nbformat": 4,
 "nbformat_minor": 2
}
